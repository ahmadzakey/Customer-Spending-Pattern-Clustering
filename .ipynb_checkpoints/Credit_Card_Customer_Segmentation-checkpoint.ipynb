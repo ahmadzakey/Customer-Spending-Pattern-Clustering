{
 "cells": [
  {
   "cell_type": "markdown",
   "metadata": {},
   "source": [
    "<img src=\"images/Peoplelogy-Logo.png\" style=\"height: 100px;\" align=left> <img src=\"images/sklearn-logo.png\" style=\"height: 100px;\" align=right>"
   ]
  },
  {
   "cell_type": "markdown",
   "metadata": {},
   "source": [
    "# Clustering Project 2: Credit Card Customer Segmentation\n",
    "\n",
    "\n",
    "---\n",
    "\n",
    "<img src=\"images/card.jpeg\" style=\"height: 500px; width: 1500px;\" align=left>\n",
    "<br>\n",
    "\n",
    "---\n",
    "\n",
    "## Objective\n",
    "Group credit card customers based on their spending patterns to help financial institutions personalize offers and services.\n",
    "\n",
    "---\n",
    "\n",
    "## Dataset\n",
    "### Columns:\n",
    "1. **CUST_ID**: Identification of Credit Card holder (Categorical).\n",
    "2. **BALANCE**: Balance amount left in their account to make purchases.\n",
    "3. **BALANCE_FREQUENCY**: How frequently the balance is updated, score between 0 and 1 (1 = frequently updated, 0 = not frequently updated).\n",
    "4. **PURCHASES**: Amount of purchases made from the account.\n",
    "5. **ONEOFF_PURCHASES**: Maximum purchase amount done in one-go.\n",
    "6. **INSTALLMENTS_PURCHASES**: Amount of purchase done in installments.\n",
    "7. **CASH_ADVANCE**: Cash in advance given by the user.\n",
    "8. **PURCHASES_FREQUENCY**: How frequently the purchases are being made, score between 0 and 1 (1 = frequently purchased, 0 = not frequently purchased).\n",
    "9. **ONEOFF_PURCHASES_FREQUENCY**: How frequently purchases are happening in one-go (1 = frequently purchased, 0 = not frequently purchased).\n",
    "10. **PURCHASES_INSTALLMENTS_FREQUENCY**: How frequently purchases in installments are being done (1 = frequently done, 0 = not frequently done).\n",
    "11. **CASH_ADVANCE_FREQUENCY**: How frequently the cash in advance is being paid.\n",
    "12. **CASH_ADVANCE_TRX**: Number of transactions made with \"Cash in Advance.\"\n",
    "13. **PURCHASES_TRX**: Number of purchase transactions made.\n",
    "14. **CREDIT_LIMIT**: Limit of the Credit Card for the user.\n",
    "15. **PAYMENTS**: Amount of payment done by the user.\n",
    "16. **MINIMUM_PAYMENTS**: Minimum amount of payments made by the user.\n",
    "17. **PRC_FULL_PAYMENT**: Percent of full payment paid by the user.\n",
    "18. **TENURE**: Tenure of credit card service for the user.\n",
    "\n",
    "---\n"
   ]
  },
  {
   "cell_type": "markdown",
   "metadata": {},
   "source": [
    "\n",
    "## Tasks\n",
    "\n",
    "### 1. Data Exploration\n",
    "- Load the dataset and display the first few rows.\n",
    "- Identify relevant features for clustering.\n",
    "- Visualize feature distributions (e.g., `BALANCE`, `PURCHASES`, `CREDIT_LIMIT`).\n",
    "\n",
    "---\n"
   ]
  },
  {
   "cell_type": "code",
   "execution_count": null,
   "metadata": {
    "vscode": {
     "languageId": "plaintext"
    }
   },
   "outputs": [],
   "source": []
  },
  {
   "cell_type": "markdown",
   "metadata": {},
   "source": [
    "\n",
    "### 2. Preprocessing\n",
    "- Select features such as `BALANCE`, `PURCHASES`, `CASH_ADVANCE`, `CREDIT_LIMIT`, `TENURE`, and `PAYMENTS`.\n",
    "- Handle missing values (e.g., fill with the mean or median).\n",
    "- Standardize the features using `StandardScaler`.\n",
    "\n",
    "---\n"
   ]
  },
  {
   "cell_type": "code",
   "execution_count": null,
   "metadata": {
    "vscode": {
     "languageId": "plaintext"
    }
   },
   "outputs": [],
   "source": []
  },
  {
   "cell_type": "markdown",
   "metadata": {},
   "source": [
    "### 3. Clustering\n",
    "#### **K-Means:**\n",
    "1. Use the **Elbow Method** to determine the optimal number of clusters:\n",
    "   - Plot the Within-Cluster-Sum of Squares (WCSS) for different \\( K \\) values and find the \"elbow point.\"\n",
    "2. Use the **Silhouette Method** to validate the number of clusters:\n",
    "   - Compute the silhouette score for each value of \\( K \\) and plot the scores.\n",
    "3. Apply K-Means clustering and visualize the clusters.\n"
   ]
  },
  {
   "cell_type": "code",
   "execution_count": null,
   "metadata": {
    "vscode": {
     "languageId": "plaintext"
    }
   },
   "outputs": [],
   "source": []
  },
  {
   "cell_type": "markdown",
   "metadata": {},
   "source": [
    "#### **DBSCAN:**\n",
    "1. Apply DBSCAN clustering and visualize the clusters.\n",
    "2. Experiment with different values of \\( \\varepsilon \\) and `MinPts` to observe their effects.\n"
   ]
  },
  {
   "cell_type": "code",
   "execution_count": null,
   "metadata": {
    "vscode": {
     "languageId": "plaintext"
    }
   },
   "outputs": [],
   "source": []
  },
  {
   "cell_type": "markdown",
   "metadata": {},
   "source": [
    "\n",
    "#### **Davies-Bouldin Index:**\n",
    "1. Calculate the Davies-Bouldin Index for the chosen clustering.\n",
    "2. Compare which clustering approach (K-Means or DBSCAN) performs better based on the index.\n",
    "\n",
    "---"
   ]
  },
  {
   "cell_type": "code",
   "execution_count": null,
   "metadata": {
    "vscode": {
     "languageId": "plaintext"
    }
   },
   "outputs": [],
   "source": []
  },
  {
   "cell_type": "markdown",
   "metadata": {},
   "source": [
    "### 4. Insights\n",
    "- Analyze each cluster and identify characteristics (e.g., high spenders, frequent users).\n",
    "- Suggest strategies for personalized marketing based on the clusters.\n",
    "\n",
    "---"
   ]
  },
  {
   "cell_type": "code",
   "execution_count": null,
   "metadata": {
    "vscode": {
     "languageId": "plaintext"
    }
   },
   "outputs": [],
   "source": []
  }
 ],
 "metadata": {
  "language_info": {
   "name": "python"
  }
 },
 "nbformat": 4,
 "nbformat_minor": 2
}
